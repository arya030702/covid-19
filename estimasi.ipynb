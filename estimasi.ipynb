{
 "cells": [
  {
   "attachments": {},
   "cell_type": "markdown",
   "metadata": {},
   "source": [
    "## Library yang akan digunakan"
   ]
  },
  {
   "cell_type": "code",
   "execution_count": 9,
   "metadata": {},
   "outputs": [],
   "source": [
    "import pandas as pd\n",
    "import numpy as np\n",
    "import matplotlib.pyplot as plt\n",
    "import seaborn as sns"
   ]
  },
  {
   "attachments": {},
   "cell_type": "markdown",
   "metadata": {},
   "source": [
    "## Memanggil dataset"
   ]
  },
  {
   "cell_type": "code",
   "execution_count": 10,
   "metadata": {},
   "outputs": [],
   "source": [
    "df = pd.read_csv('country_wise_latest.csv')"
   ]
  },
  {
   "attachments": {},
   "cell_type": "markdown",
   "metadata": {},
   "source": [
    "## 1. BUSINESS UNDERSTANDING\n",
    "\n",
    "A. Pengertian\n",
    "pada tahap ini membutuhkan data dari objek orang orang yang terkena covid-19\n",
    "untuk mengetahui seberapa orang yang terkena covid-19 agar tau mana yang negative dan mana yang positive\n",
    "\n",
    "\n",
    "B. Problem \n",
    "\n",
    "covid-19 ini merupakan suatu penyakit yang menular dan sangat berbahaya dapat mempengaruhi kesehatan ekonomi \n",
    "dan lain-lain para dokter melakukan penelitian dan riset untuk mencantumkan seberapa banyak orang yang terkena\n",
    "penyakit ini \n",
    "\n",
    "C. Tujuan\n",
    "data shet ini diambil melalui https://www.kaggle.com/datasets/imdevskp/corona-virus-report\n",
    "bertujuan untuk mengetahui seberapa banyak orang yang terkena covid-19 ini\n"
   ]
  },
  {
   "attachments": {},
   "cell_type": "markdown",
   "metadata": {},
   "source": [
    "## 2. DATA UNDERSTANDING\n",
    "\n",
    "A. Pengertian \n",
    "\n",
    " tahap ini memberikan fondasi analitik untuk sebuah penelitian dengan membuat ringkasan\n",
    " (summary)dan mengidentifikasikan potensi masalah dalam data tahap ini juga diharuskan  secara cermat dan tidak terburu buru seperti pada visualisasi data yang terkadang insight sangat sulit dari pengumpulan data yang telah diambil\n",
    " mengenai covid-19 ini"
   ]
  },
  {
   "attachments": {},
   "cell_type": "markdown",
   "metadata": {},
   "source": [
    "## Deskripsi dataset"
   ]
  },
  {
   "cell_type": "code",
   "execution_count": 11,
   "metadata": {},
   "outputs": [
    {
     "data": {
      "text/html": [
       "<div>\n",
       "<style scoped>\n",
       "    .dataframe tbody tr th:only-of-type {\n",
       "        vertical-align: middle;\n",
       "    }\n",
       "\n",
       "    .dataframe tbody tr th {\n",
       "        vertical-align: top;\n",
       "    }\n",
       "\n",
       "    .dataframe thead th {\n",
       "        text-align: right;\n",
       "    }\n",
       "</style>\n",
       "<table border=\"1\" class=\"dataframe\">\n",
       "  <thead>\n",
       "    <tr style=\"text-align: right;\">\n",
       "      <th></th>\n",
       "      <th>Country</th>\n",
       "      <th>Confirmed</th>\n",
       "      <th>Deaths</th>\n",
       "      <th>Recovered</th>\n",
       "      <th>Active</th>\n",
       "    </tr>\n",
       "  </thead>\n",
       "  <tbody>\n",
       "    <tr>\n",
       "      <th>0</th>\n",
       "      <td>Afghanistan</td>\n",
       "      <td>36263</td>\n",
       "      <td>1269</td>\n",
       "      <td>25198</td>\n",
       "      <td>9796</td>\n",
       "    </tr>\n",
       "    <tr>\n",
       "      <th>1</th>\n",
       "      <td>Albania</td>\n",
       "      <td>4880</td>\n",
       "      <td>144</td>\n",
       "      <td>2745</td>\n",
       "      <td>1991</td>\n",
       "    </tr>\n",
       "    <tr>\n",
       "      <th>2</th>\n",
       "      <td>Algeria</td>\n",
       "      <td>27973</td>\n",
       "      <td>1163</td>\n",
       "      <td>18837</td>\n",
       "      <td>7973</td>\n",
       "    </tr>\n",
       "    <tr>\n",
       "      <th>3</th>\n",
       "      <td>Andorra</td>\n",
       "      <td>907</td>\n",
       "      <td>52</td>\n",
       "      <td>803</td>\n",
       "      <td>52</td>\n",
       "    </tr>\n",
       "    <tr>\n",
       "      <th>4</th>\n",
       "      <td>Angola</td>\n",
       "      <td>950</td>\n",
       "      <td>41</td>\n",
       "      <td>242</td>\n",
       "      <td>667</td>\n",
       "    </tr>\n",
       "  </tbody>\n",
       "</table>\n",
       "</div>"
      ],
      "text/plain": [
       "       Country  Confirmed  Deaths  Recovered  Active\n",
       "0  Afghanistan      36263    1269      25198    9796\n",
       "1      Albania       4880     144       2745    1991\n",
       "2      Algeria      27973    1163      18837    7973\n",
       "3      Andorra        907      52        803      52\n",
       "4       Angola        950      41        242     667"
      ]
     },
     "execution_count": 11,
     "metadata": {},
     "output_type": "execute_result"
    }
   ],
   "source": [
    "df.head()"
   ]
  },
  {
   "attachments": {},
   "cell_type": "markdown",
   "metadata": {},
   "source": [
    "# DATA PREPARATION"
   ]
  },
  {
   "cell_type": "code",
   "execution_count": 12,
   "metadata": {},
   "outputs": [
    {
     "name": "stdout",
     "output_type": "stream",
     "text": [
      "<class 'pandas.core.frame.DataFrame'>\n",
      "RangeIndex: 187 entries, 0 to 186\n",
      "Data columns (total 5 columns):\n",
      " #   Column     Non-Null Count  Dtype \n",
      "---  ------     --------------  ----- \n",
      " 0   Country    187 non-null    object\n",
      " 1   Confirmed  187 non-null    int64 \n",
      " 2   Deaths     187 non-null    int64 \n",
      " 3   Recovered  187 non-null    int64 \n",
      " 4   Active     187 non-null    int64 \n",
      "dtypes: int64(4), object(1)\n",
      "memory usage: 7.4+ KB\n"
     ]
    }
   ],
   "source": [
    "df.info()"
   ]
  },
  {
   "attachments": {},
   "cell_type": "markdown",
   "metadata": {},
   "source": [
    "## Mencari heatmap"
   ]
  },
  {
   "cell_type": "code",
   "execution_count": 13,
   "metadata": {},
   "outputs": [
    {
     "data": {
      "text/plain": [
       "<AxesSubplot:>"
      ]
     },
     "execution_count": 13,
     "metadata": {},
     "output_type": "execute_result"
    },
    {
     "data": {
      "image/png": "[encoded data removed]",
      "text/plain": [
       "<Figure size 432x288 with 2 Axes>"
      ]
     },
     "metadata": {
      "needs_background": "light"
     },
     "output_type": "display_data"
    }
   ],
   "source": [
    "sns.heatmap(df.isnull())"
   ]
  },
  {
   "attachments": {},
   "cell_type": "markdown",
   "metadata": {},
   "source": [
    "## Melihat Nilai Data"
   ]
  },
  {
   "cell_type": "code",
   "execution_count": 14,
   "metadata": {},
   "outputs": [
    {
     "data": {
      "text/html": [
       "<div>\n",
       "<style scoped>\n",
       "    .dataframe tbody tr th:only-of-type {\n",
       "        vertical-align: middle;\n",
       "    }\n",
       "\n",
       "    .dataframe tbody tr th {\n",
       "        vertical-align: top;\n",
       "    }\n",
       "\n",
       "    .dataframe thead th {\n",
       "        text-align: right;\n",
       "    }\n",
       "</style>\n",
       "<table border=\"1\" class=\"dataframe\">\n",
       "  <thead>\n",
       "    <tr style=\"text-align: right;\">\n",
       "      <th></th>\n",
       "      <th>Confirmed</th>\n",
       "      <th>Deaths</th>\n",
       "      <th>Recovered</th>\n",
       "      <th>Active</th>\n",
       "    </tr>\n",
       "  </thead>\n",
       "  <tbody>\n",
       "    <tr>\n",
       "      <th>count</th>\n",
       "      <td>1.870000e+02</td>\n",
       "      <td>187.000000</td>\n",
       "      <td>1.870000e+02</td>\n",
       "      <td>1.870000e+02</td>\n",
       "    </tr>\n",
       "    <tr>\n",
       "      <th>mean</th>\n",
       "      <td>8.813094e+04</td>\n",
       "      <td>3497.518717</td>\n",
       "      <td>5.063148e+04</td>\n",
       "      <td>3.400194e+04</td>\n",
       "    </tr>\n",
       "    <tr>\n",
       "      <th>std</th>\n",
       "      <td>3.833187e+05</td>\n",
       "      <td>14100.002482</td>\n",
       "      <td>1.901882e+05</td>\n",
       "      <td>2.133262e+05</td>\n",
       "    </tr>\n",
       "    <tr>\n",
       "      <th>min</th>\n",
       "      <td>1.000000e+01</td>\n",
       "      <td>0.000000</td>\n",
       "      <td>0.000000e+00</td>\n",
       "      <td>0.000000e+00</td>\n",
       "    </tr>\n",
       "    <tr>\n",
       "      <th>25%</th>\n",
       "      <td>1.114000e+03</td>\n",
       "      <td>18.500000</td>\n",
       "      <td>6.265000e+02</td>\n",
       "      <td>1.415000e+02</td>\n",
       "    </tr>\n",
       "    <tr>\n",
       "      <th>50%</th>\n",
       "      <td>5.059000e+03</td>\n",
       "      <td>108.000000</td>\n",
       "      <td>2.815000e+03</td>\n",
       "      <td>1.600000e+03</td>\n",
       "    </tr>\n",
       "    <tr>\n",
       "      <th>75%</th>\n",
       "      <td>4.046050e+04</td>\n",
       "      <td>734.000000</td>\n",
       "      <td>2.260600e+04</td>\n",
       "      <td>9.149000e+03</td>\n",
       "    </tr>\n",
       "    <tr>\n",
       "      <th>max</th>\n",
       "      <td>4.290259e+06</td>\n",
       "      <td>148011.000000</td>\n",
       "      <td>1.846641e+06</td>\n",
       "      <td>2.816444e+06</td>\n",
       "    </tr>\n",
       "  </tbody>\n",
       "</table>\n",
       "</div>"
      ],
      "text/plain": [
       "          Confirmed         Deaths     Recovered        Active\n",
       "count  1.870000e+02     187.000000  1.870000e+02  1.870000e+02\n",
       "mean   8.813094e+04    3497.518717  5.063148e+04  3.400194e+04\n",
       "std    3.833187e+05   14100.002482  1.901882e+05  2.133262e+05\n",
       "min    1.000000e+01       0.000000  0.000000e+00  0.000000e+00\n",
       "25%    1.114000e+03      18.500000  6.265000e+02  1.415000e+02\n",
       "50%    5.059000e+03     108.000000  2.815000e+03  1.600000e+03\n",
       "75%    4.046050e+04     734.000000  2.260600e+04  9.149000e+03\n",
       "max    4.290259e+06  148011.000000  1.846641e+06  2.816444e+06"
      ]
     },
     "execution_count": 14,
     "metadata": {},
     "output_type": "execute_result"
    }
   ],
   "source": [
    "df.describe()"
   ]
  },
  {
   "attachments": {},
   "cell_type": "markdown",
   "metadata": {},
   "source": [
    "## Visualisasi Data"
   ]
  },
  {
   "cell_type": "code",
   "execution_count": 15,
   "metadata": {},
   "outputs": [
    {
     "data": {
      "text/plain": [
       "<AxesSubplot:>"
      ]
     },
     "execution_count": 15,
     "metadata": {},
     "output_type": "execute_result"
    },
    {
     "data": {
      "image/png": "[encoded data removed]",
      "text/plain": [
       "<Figure size 720x504 with 2 Axes>"
      ]
     },
     "metadata": {
      "needs_background": "light"
     },
     "output_type": "display_data"
    }
   ],
   "source": [
    "plt.figure(figsize=(10,7))\n",
    "sns.heatmap(df.corr(), annot=True)"
   ]
  },
  {
   "attachments": {},
   "cell_type": "markdown",
   "metadata": {},
   "source": [
    "## Jumlah Deaths Berdasarkan Negara"
   ]
  },
  {
   "cell_type": "code",
   "execution_count": 16,
   "metadata": {},
   "outputs": [],
   "source": [
    "brands = df.groupby('Country').count()[['Confirmed']].sort_values(by='Confirmed', ascending=True).reset_index()\n",
    "brands = brands.rename(columns={'Confirmed':'Deaths'})"
   ]
  },
  {
   "cell_type": "code",
   "execution_count": 18,
   "metadata": {},
   "outputs": [
    {
     "data": {
      "text/plain": [
       "(array([  0,   1,   2,   3,   4,   5,   6,   7,   8,   9,  10,  11,  12,\n",
       "         13,  14,  15,  16,  17,  18,  19,  20,  21,  22,  23,  24,  25,\n",
       "         26,  27,  28,  29,  30,  31,  32,  33,  34,  35,  36,  37,  38,\n",
       "         39,  40,  41,  42,  43,  44,  45,  46,  47,  48,  49,  50,  51,\n",
       "         52,  53,  54,  55,  56,  57,  58,  59,  60,  61,  62,  63,  64,\n",
       "         65,  66,  67,  68,  69,  70,  71,  72,  73,  74,  75,  76,  77,\n",
       "         78,  79,  80,  81,  82,  83,  84,  85,  86,  87,  88,  89,  90,\n",
       "         91,  92,  93,  94,  95,  96,  97,  98,  99, 100, 101, 102, 103,\n",
       "        104, 105, 106, 107, 108, 109, 110, 111, 112, 113, 114, 115, 116,\n",
       "        117, 118, 119, 120, 121, 122, 123, 124, 125, 126, 127, 128, 129,\n",
       "        130, 131, 132, 133, 134, 135, 136, 137, 138, 139, 140, 141, 142,\n",
       "        143, 144, 145, 146, 147, 148, 149, 150, 151, 152, 153, 154, 155,\n",
       "        156, 157, 158, 159, 160, 161, 162, 163, 164, 165, 166, 167, 168,\n",
       "        169, 170, 171, 172, 173, 174, 175, 176, 177, 178, 179, 180, 181,\n",
       "        182, 183, 184, 185, 186]),\n",
       " [Text(0, 0, 'Afghanistan'),\n",
       "  Text(1, 0, 'Nepal'),\n",
       "  Text(2, 0, 'Netherlands'),\n",
       "  Text(3, 0, 'New Zealand'),\n",
       "  Text(4, 0, 'Nicaragua'),\n",
       "  Text(5, 0, 'Niger'),\n",
       "  Text(6, 0, 'Nigeria'),\n",
       "  Text(7, 0, 'North Macedonia'),\n",
       "  Text(8, 0, 'Norway'),\n",
       "  Text(9, 0, 'Oman'),\n",
       "  Text(10, 0, 'Pakistan'),\n",
       "  Text(11, 0, 'Panama'),\n",
       "  Text(12, 0, 'Papua New Guinea'),\n",
       "  Text(13, 0, 'Paraguay'),\n",
       "  Text(14, 0, 'Peru'),\n",
       "  Text(15, 0, 'Philippines'),\n",
       "  Text(16, 0, 'Poland'),\n",
       "  Text(17, 0, 'Portugal'),\n",
       "  Text(18, 0, 'Qatar'),\n",
       "  Text(19, 0, 'Romania'),\n",
       "  Text(20, 0, 'Namibia'),\n",
       "  Text(21, 0, 'Mozambique'),\n",
       "  Text(22, 0, 'Morocco'),\n",
       "  Text(23, 0, 'Montenegro'),\n",
       "  Text(24, 0, 'Latvia'),\n",
       "  Text(25, 0, 'Lebanon'),\n",
       "  Text(26, 0, 'Lesotho'),\n",
       "  Text(27, 0, 'Liberia'),\n",
       "  Text(28, 0, 'Libya'),\n",
       "  Text(29, 0, 'Liechtenstein'),\n",
       "  Text(30, 0, 'Lithuania'),\n",
       "  Text(31, 0, 'Luxembourg'),\n",
       "  Text(32, 0, 'Madagascar'),\n",
       "  Text(33, 0, 'Russia'),\n",
       "  Text(34, 0, 'Malawi'),\n",
       "  Text(35, 0, 'Maldives'),\n",
       "  Text(36, 0, 'Mali'),\n",
       "  Text(37, 0, 'Malta'),\n",
       "  Text(38, 0, 'Mauritania'),\n",
       "  Text(39, 0, 'Mauritius'),\n",
       "  Text(40, 0, 'Mexico'),\n",
       "  Text(41, 0, 'Moldova'),\n",
       "  Text(42, 0, 'Monaco'),\n",
       "  Text(43, 0, 'Mongolia'),\n",
       "  Text(44, 0, 'Malaysia'),\n",
       "  Text(45, 0, 'Laos'),\n",
       "  Text(46, 0, 'Rwanda'),\n",
       "  Text(47, 0, 'Saint Lucia'),\n",
       "  Text(48, 0, 'Tanzania'),\n",
       "  Text(49, 0, 'Thailand'),\n",
       "  Text(50, 0, 'Timor-Leste'),\n",
       "  Text(51, 0, 'Togo'),\n",
       "  Text(52, 0, 'Trinidad and Tobago'),\n",
       "  Text(53, 0, 'Tunisia'),\n",
       "  Text(54, 0, 'Turkey'),\n",
       "  Text(55, 0, 'US'),\n",
       "  Text(56, 0, 'Uganda'),\n",
       "  Text(57, 0, 'Ukraine'),\n",
       "  Text(58, 0, 'United Arab Emirates'),\n",
       "  Text(59, 0, 'United Kingdom'),\n",
       "  Text(60, 0, 'Uruguay'),\n",
       "  Text(61, 0, 'Uzbekistan'),\n",
       "  Text(62, 0, 'Venezuela'),\n",
       "  Text(63, 0, 'Vietnam'),\n",
       "  Text(64, 0, 'West Bank and Gaza'),\n",
       "  Text(65, 0, 'Western Sahara'),\n",
       "  Text(66, 0, 'Yemen'),\n",
       "  Text(67, 0, 'Tajikistan'),\n",
       "  Text(68, 0, 'Taiwan*'),\n",
       "  Text(69, 0, 'Syria'),\n",
       "  Text(70, 0, 'Switzerland'),\n",
       "  Text(71, 0, 'Saint Vincent and the Grenadines'),\n",
       "  Text(72, 0, 'San Marino'),\n",
       "  Text(73, 0, 'Sao Tome and Principe'),\n",
       "  Text(74, 0, 'Saudi Arabia'),\n",
       "  Text(75, 0, 'Senegal'),\n",
       "  Text(76, 0, 'Serbia'),\n",
       "  Text(77, 0, 'Seychelles'),\n",
       "  Text(78, 0, 'Sierra Leone'),\n",
       "  Text(79, 0, 'Singapore'),\n",
       "  Text(80, 0, 'Saint Kitts and Nevis'),\n",
       "  Text(81, 0, 'Slovakia'),\n",
       "  Text(82, 0, 'Somalia'),\n",
       "  Text(83, 0, 'South Africa'),\n",
       "  Text(84, 0, 'South Korea'),\n",
       "  Text(85, 0, 'South Sudan'),\n",
       "  Text(86, 0, 'Spain'),\n",
       "  Text(87, 0, 'Sri Lanka'),\n",
       "  Text(88, 0, 'Sudan'),\n",
       "  Text(89, 0, 'Suriname'),\n",
       "  Text(90, 0, 'Sweden'),\n",
       "  Text(91, 0, 'Slovenia'),\n",
       "  Text(92, 0, 'Zambia'),\n",
       "  Text(93, 0, 'Kyrgyzstan'),\n",
       "  Text(94, 0, 'Kosovo'),\n",
       "  Text(95, 0, 'Bulgaria'),\n",
       "  Text(96, 0, 'Burkina Faso'),\n",
       "  Text(97, 0, 'Burma'),\n",
       "  Text(98, 0, 'Burundi'),\n",
       "  Text(99, 0, 'Cabo Verde'),\n",
       "  Text(100, 0, 'Cambodia'),\n",
       "  Text(101, 0, 'Cameroon'),\n",
       "  Text(102, 0, 'Canada'),\n",
       "  Text(103, 0, 'Central African Republic'),\n",
       "  Text(104, 0, 'Chad'),\n",
       "  Text(105, 0, 'Chile'),\n",
       "  Text(106, 0, 'China'),\n",
       "  Text(107, 0, 'Colombia'),\n",
       "  Text(108, 0, 'Comoros'),\n",
       "  Text(109, 0, 'Congo (Brazzaville)'),\n",
       "  Text(110, 0, 'Congo (Kinshasa)'),\n",
       "  Text(111, 0, 'Costa Rica'),\n",
       "  Text(112, 0, \"Cote d'Ivoire\"),\n",
       "  Text(113, 0, 'Croatia'),\n",
       "  Text(114, 0, 'Brunei'),\n",
       "  Text(115, 0, 'Brazil'),\n",
       "  Text(116, 0, 'Botswana'),\n",
       "  Text(117, 0, 'Bosnia and Herzegovina'),\n",
       "  Text(118, 0, 'Albania'),\n",
       "  Text(119, 0, 'Algeria'),\n",
       "  Text(120, 0, 'Andorra'),\n",
       "  Text(121, 0, 'Angola'),\n",
       "  Text(122, 0, 'Antigua and Barbuda'),\n",
       "  Text(123, 0, 'Argentina'),\n",
       "  Text(124, 0, 'Armenia'),\n",
       "  Text(125, 0, 'Australia'),\n",
       "  Text(126, 0, 'Austria'),\n",
       "  Text(127, 0, 'Cuba'),\n",
       "  Text(128, 0, 'Azerbaijan'),\n",
       "  Text(129, 0, 'Bahrain'),\n",
       "  Text(130, 0, 'Bangladesh'),\n",
       "  Text(131, 0, 'Barbados'),\n",
       "  Text(132, 0, 'Belarus'),\n",
       "  Text(133, 0, 'Belgium'),\n",
       "  Text(134, 0, 'Belize'),\n",
       "  Text(135, 0, 'Benin'),\n",
       "  Text(136, 0, 'Bhutan'),\n",
       "  Text(137, 0, 'Bolivia'),\n",
       "  Text(138, 0, 'Bahamas'),\n",
       "  Text(139, 0, 'Kuwait'),\n",
       "  Text(140, 0, 'Cyprus'),\n",
       "  Text(141, 0, 'Denmark'),\n",
       "  Text(142, 0, 'Guinea-Bissau'),\n",
       "  Text(143, 0, 'Guyana'),\n",
       "  Text(144, 0, 'Haiti'),\n",
       "  Text(145, 0, 'Holy See'),\n",
       "  Text(146, 0, 'Honduras'),\n",
       "  Text(147, 0, 'Hungary'),\n",
       "  Text(148, 0, 'Iceland'),\n",
       "  Text(149, 0, 'India'),\n",
       "  Text(150, 0, 'Indonesia'),\n",
       "  Text(151, 0, 'Iran'),\n",
       "  Text(152, 0, 'Iraq'),\n",
       "  Text(153, 0, 'Ireland'),\n",
       "  Text(154, 0, 'Israel'),\n",
       "  Text(155, 0, 'Italy'),\n",
       "  Text(156, 0, 'Jamaica'),\n",
       "  Text(157, 0, 'Japan'),\n",
       "  Text(158, 0, 'Jordan'),\n",
       "  Text(159, 0, 'Kazakhstan'),\n",
       "  Text(160, 0, 'Kenya'),\n",
       "  Text(161, 0, 'Guinea'),\n",
       "  Text(162, 0, 'Guatemala'),\n",
       "  Text(163, 0, 'Grenada'),\n",
       "  Text(164, 0, 'Greenland'),\n",
       "  Text(165, 0, 'Djibouti'),\n",
       "  Text(166, 0, 'Dominica'),\n",
       "  Text(167, 0, 'Dominican Republic'),\n",
       "  Text(168, 0, 'Ecuador'),\n",
       "  Text(169, 0, 'Egypt'),\n",
       "  Text(170, 0, 'El Salvador'),\n",
       "  Text(171, 0, 'Equatorial Guinea'),\n",
       "  Text(172, 0, 'Eritrea'),\n",
       "  Text(173, 0, 'Estonia'),\n",
       "  Text(174, 0, 'Czechia'),\n",
       "  Text(175, 0, 'Eswatini'),\n",
       "  Text(176, 0, 'Fiji'),\n",
       "  Text(177, 0, 'Finland'),\n",
       "  Text(178, 0, 'France'),\n",
       "  Text(179, 0, 'Gabon'),\n",
       "  Text(180, 0, 'Gambia'),\n",
       "  Text(181, 0, 'Georgia'),\n",
       "  Text(182, 0, 'Germany'),\n",
       "  Text(183, 0, 'Ghana'),\n",
       "  Text(184, 0, 'Greece'),\n",
       "  Text(185, 0, 'Ethiopia'),\n",
       "  Text(186, 0, 'Zimbabwe')])"
      ]
     },
     "execution_count": 18,
     "metadata": {},
     "output_type": "execute_result"
    },
    {
     "data": {
      "image/png": "[encoded data removed]",
      "text/plain": [
       "<Figure size 1080x504 with 1 Axes>"
      ]
     },
     "metadata": {
      "needs_background": "light"
     },
     "output_type": "display_data"
    }
   ],
   "source": [
    "fig = plt.figure(figsize = (15,7))\n",
    "sns.barplot(x = brands['Country'], y = brands['Deaths'], color = 'blue')\n",
    "plt.xticks(rotation = 60)"
   ]
  },
  {
   "attachments": {},
   "cell_type": "markdown",
   "metadata": {},
   "source": [
    "# MODELLING DATA"
   ]
  },
  {
   "attachments": {},
   "cell_type": "markdown",
   "metadata": {},
   "source": [
    "## Seleksi Fitur"
   ]
  },
  {
   "cell_type": "code",
   "execution_count": 19,
   "metadata": {},
   "outputs": [
    {
     "data": {
      "text/plain": [
       "((187, 3), (187,))"
      ]
     },
     "execution_count": 19,
     "metadata": {},
     "output_type": "execute_result"
    }
   ],
   "source": [
    "fitur = ['Confirmed', 'Active', 'Recovered']\n",
    "x = df[fitur]\n",
    "y = df['Deaths']\n",
    "x.shape, y.shape"
   ]
  },
  {
   "attachments": {},
   "cell_type": "markdown",
   "metadata": {},
   "source": [
    "## Split Data Training & Testing"
   ]
  },
  {
   "cell_type": "code",
   "execution_count": 20,
   "metadata": {},
   "outputs": [
    {
     "data": {
      "text/plain": [
       "(47,)"
      ]
     },
     "execution_count": 20,
     "metadata": {},
     "output_type": "execute_result"
    }
   ],
   "source": [
    "from sklearn.model_selection import train_test_split\n",
    "x_train, X_test, y_train, y_test = train_test_split(x, y, random_state = 70)\n",
    "y_test.shape"
   ]
  },
  {
   "attachments": {},
   "cell_type": "markdown",
   "metadata": {},
   "source": [
    "## membuat regresi linier"
   ]
  },
  {
   "cell_type": "code",
   "execution_count": 21,
   "metadata": {},
   "outputs": [],
   "source": [
    "from sklearn.linear_model import LinearRegression\n",
    "lr = LinearRegression()\n",
    "lr.fit(x_train,y_train)\n",
    "predik = lr.predict(X_test)"
   ]
  },
  {
   "attachments": {},
   "cell_type": "markdown",
   "metadata": {},
   "source": [
    "# EVALUTION DATA"
   ]
  },
  {
   "cell_type": "code",
   "execution_count": 24,
   "metadata": {},
   "outputs": [
    {
     "name": "stdout",
     "output_type": "stream",
     "text": [
      "Akurasi Model Regresi Linier :  1.0\n"
     ]
    }
   ],
   "source": [
    "y = lr.score(X_test, y_test)\n",
    "print('Akurasi Model Regresi Linier : ', y)"
   ]
  },
  {
   "attachments": {},
   "cell_type": "markdown",
   "metadata": {},
   "source": [
    "## Membuat inputan regresi linier"
   ]
  },
  {
   "cell_type": "code",
   "execution_count": 25,
   "metadata": {},
   "outputs": [
    {
     "name": "stdout",
     "output_type": "stream",
     "text": [
      "Estimasi Jumlah Kematian Covid-19  :  [1163.]\n"
     ]
    },
    {
     "name": "stderr",
     "output_type": "stream",
     "text": [
      "C:\\Users\\USER\\AppData\\Local\\Packages\\PythonSoftwareFoundation.Python.3.7_qbz5n2kfra8p0\\LocalCache\\local-packages\\Python37\\site-packages\\sklearn\\base.py:451: UserWarning: X does not have valid feature names, but LinearRegression was fitted with feature names\n",
      "  \"X does not have valid feature names, but\"\n"
     ]
    }
   ],
   "source": [
    "inputan = np.array([[27973, 18837, 7973]])\n",
    "prediksi = lr.predict(inputan)\n",
    "print('Estimasi Jumlah Kematian Covid-19  : ', prediksi)"
   ]
  },
  {
   "attachments": {},
   "cell_type": "markdown",
   "metadata": {},
   "source": [
    "# DEPLOYMENT"
   ]
  },
  {
   "attachments": {},
   "cell_type": "markdown",
   "metadata": {},
   "source": [
    "## Save Model"
   ]
  },
  {
   "cell_type": "code",
   "execution_count": 28,
   "metadata": {},
   "outputs": [],
   "source": [
    "import pickle\n",
    "filename = 'estimasi_covid19.sav'\n",
    "pickle.dump(lr,open(filename,'wb'))"
   ]
  }
 ],
 "metadata": {
  "kernelspec": {
   "display_name": "Python 3.7.9 64-bit (microsoft store)",
   "language": "python",
   "name": "python3"
  },
  "language_info": {
   "codemirror_mode": {
    "name": "ipython",
    "version": 3
   },
   "file_extension": ".py",
   "mimetype": "text/x-python",
   "name": "python",
   "nbconvert_exporter": "python",
   "pygments_lexer": "ipython3",
   "version": "3.7.9"
  },
  "orig_nbformat": 4,
  "vscode": {
   "interpreter": {
    "hash": "784a0799c0dae6dba3c15d23f5950f5cac127d4542c4889e7ad9101ae93f3407"
   }
  }
 },
 "nbformat": 4,
 "nbformat_minor": 2
}
